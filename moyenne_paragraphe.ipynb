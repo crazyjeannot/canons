{
 "cells": [
  {
   "cell_type": "code",
   "execution_count": 1,
   "metadata": {},
   "outputs": [],
   "source": [
    "import spacy\n",
    "import timeit\n",
    "import math\n",
    "import pandas as pd\n",
    "import matplotlib.pyplot as plt\n",
    "from os import path\n",
    "from collections import Counter\n",
    "from lxml import etree\n",
    "from glob import glob\n",
    "from unicodedata import normalize"
   ]
  },
  {
   "cell_type": "code",
   "execution_count": 2,
   "metadata": {},
   "outputs": [],
   "source": [
    "nlp = spacy.load('fr_core_news_lg')"
   ]
  },
  {
   "cell_type": "code",
   "execution_count": 26,
   "metadata": {},
   "outputs": [],
   "source": [
    "def moyenne_mots_par_paragraphe(file_name):\n",
    "    liste_nombre_mots = []\n",
    "    with open(file_name, encoding=\"utf8\") as file:\n",
    "        tree = etree.parse(file)\n",
    "        if tree.findall(\".//p\"):\n",
    "            for paragraphe in tree.findall(\".//p\"):\n",
    "                nombre_mots = 0\n",
    "                if paragraphe.text:\n",
    "                    clean_text = normalize(\"NFKD\", paragraphe.text)\n",
    "                    docs = nlp(clean_text)\n",
    "                    for token in docs:\n",
    "                        if token.pos_ != \"PUNCT\" and \"SPACE\" and \"X\" and \"SYM\":\n",
    "                            nombre_mots += 1\n",
    "                if nombre_mots > 50:\n",
    "                    liste_nombre_mots.append(nombre_mots)\n",
    "        print(round(sum(liste_nombre_mots)/len(liste_nombre_mots), 2))\n",
    "    return round(sum(liste_nombre_mots)/len(liste_nombre_mots), 2)"
   ]
  },
  {
   "cell_type": "code",
   "execution_count": 30,
   "metadata": {},
   "outputs": [],
   "source": [
    "def corpus_parsing(path_name):\n",
    "    list_average_len = []\n",
    "    for file_name in glob(path_name):\n",
    "        doc_name = path.splitext(path.basename(file_name))[0]\n",
    "        print(doc_name)\n",
    "        average_len = moyenne_mots_par_paragraphe(file_name)\n",
    "        list_average_len.append(average_len)\n",
    "    return list_average_len"
   ]
  },
  {
   "cell_type": "code",
   "execution_count": 31,
   "metadata": {},
   "outputs": [],
   "source": [
    "path_name = 'corpus_test/*.xml' # corpus_master"
   ]
  },
  {
   "cell_type": "code",
   "execution_count": 32,
   "metadata": {},
   "outputs": [
    {
     "name": "stdout",
     "output_type": "stream",
     "text": [
      "1828_Kock-Paul-de_Jean\n",
      "108.22\n",
      "1829_Hugo-Victor_Le-dernier-jour-d-un-condamne\n",
      "105.99\n",
      "1831_Balzac-Honore-de_La-Peau-de-chagrin-ed-Gosselin\n",
      "95.77\n",
      "1832_Sand-George_Indiana\n",
      "133.51\n",
      "1832_Vigny-Alfred-de_Stello\n",
      "114.96\n",
      "1833_Corbiere-Edouard_La-mer-et-les-marins-Scenes-maritimes\n",
      "143.61\n",
      "1833_Servan-Felix_Claudia-ou-Les-prieres-d-une-jeune-fille\n",
      "89.05\n",
      "1834_Foa-Eugenie_La-Femme-a-la-mode\n",
      "91.48\n",
      "1836_Musset-Alfred-de_La-Confession-d-un-enfant-du-siecle-par-Alfred-de-Musset-nouvelle-edition-(1878)\n",
      "129.03\n",
      "1838_Gautier-Theophile_Fortunio\n",
      "99.91\n",
      "1839_Karr-Alphonse_Clotilde\n",
      "128.81\n",
      "1840_Dumas-Alexandre_Le-Capitaine-Pamphile\n",
      "118.13\n",
      "1843_Le-Roux-Alfred_Edouard-Aubert\n",
      "110.75\n",
      "1843_Tillier-Claude_Mon-oncle-Benjamin\n",
      "120.91\n",
      "1844_Tarbe-Des-Sablons-Michelle-Catherine-Josephine-Guespereau-Mme-Sebastien-Andre_Onesie-ou-les-Soirees-de-l-abbaye-suivie-de-Enguerrand-ou-le-Duel\n",
      "132.48\n",
      "1848_Musset-Paul-de_La-Chevre-Jaune\n",
      "132.69\n",
      "1849_Chateaubriand-François-Rene-de_Memoires-d-Outre-Tombe-Tome-1\n",
      "133.61\n",
      "1857_Aimard-Gustave_Les-trappeurs-de-l-Arkansas\n",
      "77.81\n",
      "1857_Flaubert-Gustave_Madame-Bovary\n",
      "106.83\n",
      "1859_Ulbach-Louis_Pauline-Foucault\n",
      "105.03\n",
      "113.93\n"
     ]
    }
   ],
   "source": [
    "list_average_len = corpus_parsing(path_name)\n",
    "resultat = round(sum(list_average_len)/len(list_average_len),2)\n",
    "print(resultat)"
   ]
  },
  {
   "cell_type": "code",
   "execution_count": null,
   "metadata": {},
   "outputs": [],
   "source": []
  }
 ],
 "metadata": {
  "kernelspec": {
   "display_name": "Python 3",
   "language": "python",
   "name": "python3"
  },
  "language_info": {
   "codemirror_mode": {
    "name": "ipython",
    "version": 3
   },
   "file_extension": ".py",
   "mimetype": "text/x-python",
   "name": "python",
   "nbconvert_exporter": "python",
   "pygments_lexer": "ipython3",
   "version": "3.8.3"
  }
 },
 "nbformat": 4,
 "nbformat_minor": 4
}
